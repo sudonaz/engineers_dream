{
  "metadata": {
    "kernelspec": {
      "name": "python",
      "display_name": "Python (Pyodide)",
      "language": "python"
    },
    "language_info": {
      "codemirror_mode": {
        "name": "python",
        "version": 3
      },
      "file_extension": ".py",
      "mimetype": "text/x-python",
      "name": "python",
      "nbconvert_exporter": "python",
      "pygments_lexer": "ipython3",
      "version": "3.8"
    }
  },
  "nbformat_minor": 4,
  "nbformat": 4,
  "cells": [
    {
      "cell_type": "code",
      "source": "# import necessary libraries and modules\nfrom sympy import isprime\nfrom sympy import divisors\nfrom itertools import combinations",
      "metadata": {
        "trusted": true
      },
      "outputs": [],
      "execution_count": null
    },
    {
      "cell_type": "code",
      "source": "def is_prime(n): #checks if the number is prime\n    return isprime(n)",
      "metadata": {
        "trusted": true
      },
      "outputs": [],
      "execution_count": 2
    },
    {
      "cell_type": "code",
      "source": "def is_practical(n):  #checks if the number is practical\n    divs = divisors(n)\n    \n    if divs[0] != 1: #first divisor should be 1\n        return False\n    \n    current_sum = 1\n    for i in range(1, len(divs)):\n        if divs[i] > current_sum + 1:\n            return False\n        current_sum += divs[i]   \n    return True",
      "metadata": {
        "trusted": true
      },
      "outputs": [],
      "execution_count": 3
    },
    {
      "cell_type": "code",
      "source": "def is_sexy_pair(p1, p2): #checks if the pair is sexy pair\n    return is_prime(p1) and is_prime(p2) and abs(p2-p1) == 6",
      "metadata": {
        "trusted": true
      },
      "outputs": [],
      "execution_count": 4
    },
    {
      "cell_type": "code",
      "source": "def is_engineers_paradise(n):\n    if not all(is_prime(i) for i in [n-9, n-3, n+3, n+9]): #checks if they are sexy triple pair \n        return False\n    return all(is_practical(j) for j in [n-8, n-4, n+4, n+8]) #checks if they are practical",
      "metadata": {
        "trusted": true
      },
      "outputs": [],
      "execution_count": 5
    },
    {
      "cell_type": "code",
      "source": "engineers_paradises = []\nn = 20 #there is no practical number less than 20 so we can begin with 20\nwhile len(engineers_paradises) < 4:\n    if is_engineers_paradise(n):\n        engineers_paradises.append(n)\n        print(f\"Bulunan engineers' paradise: {n}\") \n    n+=1\n    if n % 5000 == 0:  #progress is printed every 5000 steps\n        print(f\"Checked up to {n}, the number of engineers' paradise found: {len(engineers_paradises)}\")",
      "metadata": {
        "trusted": true
      },
      "outputs": [
        {
          "name": "stdout",
          "text": "Bulunan engineers' paradise: 20\n5000 sayısına kadar kontrol edildi, bulunan engineers' paradise sayısı: 1\n10000 sayısına kadar kontrol edildi, bulunan engineers' paradise sayısı: 1\n",
          "output_type": "stream"
        }
      ],
      "execution_count": null
    },
    {
      "cell_type": "code",
      "source": "print(\"The first four engineers' paradise: \", engineers_paradises)\nprint(\"Their sum is: \", sum(engineers_paradises))",
      "metadata": {
        "trusted": true
      },
      "outputs": [
        {
          "ename": "<class 'NameError'>",
          "evalue": "name 'engineers_paradises' is not defined",
          "traceback": [
            "\u001b[0;31m---------------------------------------------------------------------------\u001b[0m",
            "\u001b[0;31mNameError\u001b[0m                                 Traceback (most recent call last)",
            "Cell \u001b[0;32mIn[1], line 1\u001b[0m\n\u001b[0;32m----> 1\u001b[0m \u001b[38;5;28mprint\u001b[39m(\u001b[38;5;124m\"\u001b[39m\u001b[38;5;124mThe first four engineers\u001b[39m\u001b[38;5;124m'\u001b[39m\u001b[38;5;124m paradise: \u001b[39m\u001b[38;5;124m\"\u001b[39m, \u001b[43mengineers_paradises\u001b[49m)\n\u001b[1;32m      2\u001b[0m \u001b[38;5;28mprint\u001b[39m(\u001b[38;5;124m\"\u001b[39m\u001b[38;5;124mTheir sum is: \u001b[39m\u001b[38;5;124m\"\u001b[39m, \u001b[38;5;28msum\u001b[39m(engineers_paradises))\n",
            "\u001b[0;31mNameError\u001b[0m: name 'engineers_paradises' is not defined"
          ],
          "output_type": "error"
        }
      ],
      "execution_count": 1
    },
    {
      "cell_type": "code",
      "source": "",
      "metadata": {
        "trusted": true
      },
      "outputs": [],
      "execution_count": null
    }
  ]
}